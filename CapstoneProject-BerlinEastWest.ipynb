{
 "cells": [
  {
   "cell_type": "markdown",
   "metadata": {},
   "source": [
    "## Segmenting and Clustering Neighborhoods in Berlin"
   ]
  },
  {
   "cell_type": "markdown",
   "metadata": {},
   "source": [
    "### Table of Contents\n",
    "\n",
    "\n",
    "#### 1. Introduction and Business Problem\n",
    "\n",
    "#### 2. Data\n"
   ]
  },
  {
   "cell_type": "markdown",
   "metadata": {},
   "source": [
    "### 1. Introduction and Business Problem"
   ]
  },
  {
   "cell_type": "markdown",
   "metadata": {},
   "source": [
    "It is now 30 years ago, that the Berlin Wall came down and the two parts of Berlin, East and West were re-unified again. The re-unifcation of Germany brougft toegther two very different political systems, societes and infratsructure leading to a long period of growing togethIt is now 30 years ago, that the Berlin Wall came down and the two parts of Berlin, East and West were re-unified again. The re-unification of Germany brought together two very different political systems, societies and infrastructure leading to a long period of growing together.\n",
    "\n",
    "An interesting question, both, from a historical and sociological view is, whether there are still quantifiable differences between East and West, e.g., in the neighborhoods of Berlin?\n",
    "\n",
    "More precisely:\n",
    "\n",
    "__1. Is there (still) a difference between neighborhoods located in East and West Berlin?__\n",
    "\n",
    "__2. If yes, what are the key characteristics of neighborhoods located in of East and West Berlin?__\n",
    "\n",
    "\n",
    "To answer this questions, location data of the 12 borrows and 96 neighborhoods of Berlin are used to get information about the top 100 venues for each neighborhood. All neighborhoods will be clustered (*k*-means) based on similarities in their venue categories. Theses clusters will visualized on a map. Finally, the distribution of East and West Berlin neighborhood across  cluster will be analyzed.\n",
    "\n",
    "The target audience of this projects are historians and sociologists as well as local politicians and city planners. This project will provide them valuable insights in potential structural differences in the Berlin neighborhoods allowing them to assess the re-unification process and help make local decision regarding city planning."
   ]
  },
  {
   "cell_type": "markdown",
   "metadata": {},
   "source": [
    "### 2. Data"
   ]
  },
  {
   "cell_type": "markdown",
   "metadata": {},
   "source": [
    "The project will use the following data and sources:\n",
    "1. List of all neighborhoods and boroughs in Berlin (Wikipedia: https://de.wikipedia.org/wiki/Verwaltungsgliederung_Berlins)\n",
    "2. Former boroughs of East Berlin (Wikipedia: https://en.wikipedia.org/wiki/East_Berlin)\n",
    "3. Newly created and renamed boroughs after re-unification (Wikipedia:https://de.wikipedia.org/wiki/Verwaltungsgliederung_Berlins)\n",
    "    \n",
    "    Friedrichshain-Kreuzberg: Two neighborhoods - Friedrichshain (East) and Kreuzberg (West)\n",
    "    \n",
    "    Mitte: Six neighborhoods - Mitte (East), Tiergarten (West), Wedding (West), Gesundbrunnen (West), Moabit (west), Hansaviertel (West)\n",
    "\n",
    "    Marzahn-Hellersdorf: Fusion of two boroughs - Marzahn (East) and Hellersdorf (East)\n",
    "    \n",
    "    Treptow-Köpenick: Fusion of two boroughs - Treptow (West) and Köpenick (West)\n",
    "    \n",
    "    Pankow: Fusion of three boroughs Pankow (East), Prenzlauer Berg (East), Weissensee (East)\n",
    "    \n",
    "4. Location data of all Berlin neighborhoods (geopy)\n",
    "5. The top 100 venues and its categories for all 96 neighborhoods in Berlin within a radius of 500 meters (FourSquare)"
   ]
  },
  {
   "cell_type": "code",
   "execution_count": null,
   "metadata": {},
   "outputs": [],
   "source": []
  },
  {
   "cell_type": "code",
   "execution_count": null,
   "metadata": {},
   "outputs": [],
   "source": []
  }
 ],
 "metadata": {
  "kernelspec": {
   "display_name": "Python 3",
   "language": "python",
   "name": "python3"
  },
  "language_info": {
   "codemirror_mode": {
    "name": "ipython",
    "version": 3
   },
   "file_extension": ".py",
   "mimetype": "text/x-python",
   "name": "python",
   "nbconvert_exporter": "python",
   "pygments_lexer": "ipython3",
   "version": "3.7.4"
  }
 },
 "nbformat": 4,
 "nbformat_minor": 4
}
